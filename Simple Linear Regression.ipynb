{
 "cells": [
  {
   "cell_type": "code",
   "execution_count": 2,
   "metadata": {},
   "outputs": [],
   "source": [
    "#import packages\n",
    "import pandas as pd \n",
    "from sklearn.model_selection import train_test_split\n",
    "from sklearn.linear_model import LinearRegression\n",
    "import matplotlib.pyplot as plt"
   ]
  },
  {
   "cell_type": "code",
   "execution_count": 3,
   "metadata": {},
   "outputs": [
    {
     "name": "stdout",
     "output_type": "stream",
     "text": [
      "    Height [feet]  Weight [Kg]\n",
      "0             2.1         14.2\n",
      "1             2.2          9.8\n",
      "2             2.6         21.4\n",
      "3             2.9         18.3\n",
      "4             3.0         38.5\n",
      "5             3.2         27.7\n",
      "6             3.7         25.4\n",
      "7             3.9         32.7\n",
      "8             4.0         45.9\n",
      "9             4.2         58.9\n",
      "10            4.5         42.7\n",
      "11            4.7         52.3\n",
      "12            5.1         71.1\n",
      "13            5.2         65.2\n",
      "14            5.4         88.3\n",
      "15            5.7         79.5\n",
      "16            5.9         91.3\n",
      "17            6.1        101.0\n",
      "18            6.3        122.4\n",
      "19            6.6         94.9\n",
      "20            6.9        107.7\n",
      "21            7.1         99.4\n",
      "22            7.4        104.0\n",
      "23            7.7        134.3\n",
      "24            8.0        116.2\n"
     ]
    }
   ],
   "source": [
    "#load data\n",
    "dataset = pd.read_csv('weight_data.csv')\n",
    "x = dataset.iloc[:,:-1].values\n",
    "y = dataset.iloc[:,1].values\n",
    "print(dataset)"
   ]
  },
  {
   "cell_type": "code",
   "execution_count": 4,
   "metadata": {},
   "outputs": [
    {
     "name": "stdout",
     "output_type": "stream",
     "text": [
      "x_train : [[3.9]\n",
      " [6.3]\n",
      " [2.1]\n",
      " [2.9]\n",
      " [7.4]\n",
      " [7.7]\n",
      " [4. ]\n",
      " [6.9]\n",
      " [4.2]\n",
      " [4.5]\n",
      " [5.9]\n",
      " [2.6]\n",
      " [6.1]\n",
      " [8. ]\n",
      " [7.1]\n",
      " [6.6]\n",
      " [5.2]\n",
      " [3.7]\n",
      " [3.2]\n",
      " [3. ]]\n",
      "x_test : [[5.1]\n",
      " [2.2]\n",
      " [5.4]\n",
      " [5.7]\n",
      " [4.7]]\n",
      "y_train : [ 32.7 122.4  14.2  18.3 104.  134.3  45.9 107.7  58.9  42.7  91.3  21.4\n",
      " 101.  116.2  99.4  94.9  65.2  25.4  27.7  38.5]\n",
      "y_test : [71.1  9.8 88.3 79.5 52.3]\n"
     ]
    }
   ],
   "source": [
    "# split data\n",
    "x_train,x_test,y_train,y_test = train_test_split(x,y,test_size=1/5)\n",
    "print(\"x_train :\",x_train)\n",
    "print(\"x_test :\",x_test)\n",
    "print(\"y_train :\",y_train)\n",
    "print(\"y_test :\",y_test)"
   ]
  },
  {
   "cell_type": "code",
   "execution_count": 5,
   "metadata": {
    "scrolled": true
   },
   "outputs": [
    {
     "data": {
      "image/png": "[encoded data removed]",
      "text/plain": [
       "<Figure size 432x288 with 1 Axes>"
      ]
     },
     "metadata": {
      "needs_background": "light"
     },
     "output_type": "display_data"
    }
   ],
   "source": [
    "plt.scatter(x, y, color = 'red')\n",
    "plt.title('Simple Linear Regression')\n",
    "plt.xlabel('Height in Feets')\n",
    "plt.ylabel('Weight in KGs')\n",
    "plt.show()"
   ]
  },
  {
   "cell_type": "code",
   "execution_count": 6,
   "metadata": {
    "scrolled": true
   },
   "outputs": [
    {
     "name": "stdout",
     "output_type": "stream",
     "text": [
      "[20.3529381]\n"
     ]
    }
   ],
   "source": [
    "#Train model\n",
    "model = LinearRegression()\n",
    "model.fit(x_train,y_train)\n",
    "\n",
    "print(model.coef_)"
   ]
  },
  {
   "cell_type": "code",
   "execution_count": 7,
   "metadata": {},
   "outputs": [
    {
     "data": {
      "image/png": "[encoded data removed]",
      "text/plain": [
       "<Figure size 432x288 with 1 Axes>"
      ]
     },
     "metadata": {
      "needs_background": "light"
     },
     "output_type": "display_data"
    }
   ],
   "source": [
    "plt.scatter(x, y, color = 'red')\n",
    "plt.plot(x, model.predict(x), color = 'green')\n",
    "plt.title('Simple Linear Regression')\n",
    "plt.xlabel('Height in Feets')\n",
    "plt.ylabel('Weight in KGs')\n",
    "plt.show()"
   ]
  },
  {
   "cell_type": "code",
   "execution_count": 8,
   "metadata": {},
   "outputs": [],
   "source": [
    "# do predictions\n",
    "pred_result = model.predict(x_test)"
   ]
  },
  {
   "cell_type": "code",
   "execution_count": 9,
   "metadata": {},
   "outputs": [
    {
     "name": "stdout",
     "output_type": "stream",
     "text": [
      "Test height : [[5.1]\n",
      " [2.2]\n",
      " [5.4]\n",
      " [5.7]\n",
      " [4.7]]\n",
      "\n",
      "Predicted Weight : [68.81735283  9.79383235 74.92323426 81.02911569 60.67617759]\n"
     ]
    }
   ],
   "source": [
    "#print results\n",
    "print(\"Test height :\",x_test)\n",
    "print(\"Predicted Weight :\",pred_result)"
   ]
  },
  {
   "cell_type": "code",
   "execution_count": null,
   "metadata": {},
   "outputs": [],
   "source": []
  }
 ],
 "metadata": {
  "kernelspec": {
   "display_name": "base",
   "language": "python",
   "name": "base"
  },
  "language_info": {
   "codemirror_mode": {
    "name": "ipython",
    "version": 3
   },
   "file_extension": ".py",
   "mimetype": "text/x-python",
   "name": "python",
   "nbconvert_exporter": "python",
   "pygments_lexer": "ipython3",
   "version": "3.6.8"
  }
 },
 "nbformat": 4,
 "nbformat_minor": 2
}
